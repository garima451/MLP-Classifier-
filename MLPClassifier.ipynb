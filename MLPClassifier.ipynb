{
  "cells": [
    {
      "cell_type": "code",
      "execution_count": null,
      "metadata": {
        "colab": {
          "base_uri": "https://localhost:8080/"
        },
        "id": "DnjJsU5qwcby",
        "outputId": "8bb62903-1350-45c7-e499-692f7554719b"
      },
      "outputs": [
        {
          "name": "stdout",
          "output_type": "stream",
          "text": [
            "     PassengerId  Survived  Pclass  \\\n",
            "0            892         0       3   \n",
            "1            893         1       3   \n",
            "2            894         0       2   \n",
            "3            895         0       3   \n",
            "4            896         1       3   \n",
            "..           ...       ...     ...   \n",
            "413         1305         0       3   \n",
            "414         1306         1       1   \n",
            "415         1307         0       3   \n",
            "416         1308         0       3   \n",
            "417         1309         0       3   \n",
            "\n",
            "                                             Name     Sex   Age  SibSp  Parch  \\\n",
            "0                                Kelly, Mr. James    male  34.5      0      0   \n",
            "1                Wilkes, Mrs. James (Ellen Needs)  female  47.0      1      0   \n",
            "2                       Myles, Mr. Thomas Francis    male  62.0      0      0   \n",
            "3                                Wirz, Mr. Albert    male  27.0      0      0   \n",
            "4    Hirvonen, Mrs. Alexander (Helga E Lindqvist)  female  22.0      1      1   \n",
            "..                                            ...     ...   ...    ...    ...   \n",
            "413                            Spector, Mr. Woolf    male   NaN      0      0   \n",
            "414                  Oliva y Ocana, Dona. Fermina  female  39.0      0      0   \n",
            "415                  Saether, Mr. Simon Sivertsen    male  38.5      0      0   \n",
            "416                           Ware, Mr. Frederick    male   NaN      0      0   \n",
            "417                      Peter, Master. Michael J    male   NaN      1      1   \n",
            "\n",
            "                 Ticket      Fare Cabin Embarked  \n",
            "0                330911    7.8292   NaN        Q  \n",
            "1                363272    7.0000   NaN        S  \n",
            "2                240276    9.6875   NaN        Q  \n",
            "3                315154    8.6625   NaN        S  \n",
            "4               3101298   12.2875   NaN        S  \n",
            "..                  ...       ...   ...      ...  \n",
            "413           A.5. 3236    8.0500   NaN        S  \n",
            "414            PC 17758  108.9000  C105        C  \n",
            "415  SOTON/O.Q. 3101262    7.2500   NaN        S  \n",
            "416              359309    8.0500   NaN        S  \n",
            "417                2668   22.3583   NaN        C  \n",
            "\n",
            "[418 rows x 12 columns]\n",
            "<class 'pandas.core.frame.DataFrame'>\n",
            "RangeIndex: 418 entries, 0 to 417\n",
            "Data columns (total 12 columns):\n",
            " #   Column       Non-Null Count  Dtype  \n",
            "---  ------       --------------  -----  \n",
            " 0   PassengerId  418 non-null    int64  \n",
            " 1   Survived     418 non-null    int64  \n",
            " 2   Pclass       418 non-null    int64  \n",
            " 3   Name         418 non-null    object \n",
            " 4   Sex          418 non-null    object \n",
            " 5   Age          332 non-null    float64\n",
            " 6   SibSp        418 non-null    int64  \n",
            " 7   Parch        418 non-null    int64  \n",
            " 8   Ticket       418 non-null    object \n",
            " 9   Fare         417 non-null    float64\n",
            " 10  Cabin        91 non-null     object \n",
            " 11  Embarked     418 non-null    object \n",
            "dtypes: float64(2), int64(5), object(5)\n",
            "memory usage: 39.3+ KB\n",
            "None\n",
            "       PassengerId    Survived      Pclass         Age       SibSp  \\\n",
            "count   418.000000  418.000000  418.000000  332.000000  418.000000   \n",
            "mean   1100.500000    0.363636    2.265550   30.272590    0.447368   \n",
            "std     120.810458    0.481622    0.841838   14.181209    0.896760   \n",
            "min     892.000000    0.000000    1.000000    0.170000    0.000000   \n",
            "25%     996.250000    0.000000    1.000000   21.000000    0.000000   \n",
            "50%    1100.500000    0.000000    3.000000   27.000000    0.000000   \n",
            "75%    1204.750000    1.000000    3.000000   39.000000    1.000000   \n",
            "max    1309.000000    1.000000    3.000000   76.000000    8.000000   \n",
            "\n",
            "            Parch        Fare  \n",
            "count  418.000000  417.000000  \n",
            "mean     0.392344   35.627188  \n",
            "std      0.981429   55.907576  \n",
            "min      0.000000    0.000000  \n",
            "25%      0.000000    7.895800  \n",
            "50%      0.000000   14.454200  \n",
            "75%      0.000000   31.500000  \n",
            "max      9.000000  512.329200  \n"
          ]
        }
      ],
      "source": [
        "import numpy as np\n",
        "import pandas as pd\n",
        "import matplotlib.pyplot as plt\n",
        "df=pd.read_csv('/content/sample_data/tested.csv')\n",
        "print(df)\n",
        "print(df.info())\n",
        "print(df.describe())"
      ]
    },
    {
      "cell_type": "code",
      "execution_count": null,
      "metadata": {
        "colab": {
          "base_uri": "https://localhost:8080/"
        },
        "id": "UJgiU2Orw7Ob",
        "outputId": "f434447d-6a5d-4a8e-cea1-7197dee3d82a"
      },
      "outputs": [
        {
          "name": "stdout",
          "output_type": "stream",
          "text": [
            "     Pclass     Sex   Age  SibSp  Parch      Fare Embarked  Survived\n",
            "0         3    male  34.5      0      0    7.8292        Q         0\n",
            "1         3  female  47.0      1      0    7.0000        S         1\n",
            "2         2    male  62.0      0      0    9.6875        Q         0\n",
            "3         3    male  27.0      0      0    8.6625        S         0\n",
            "4         3  female  22.0      1      1   12.2875        S         1\n",
            "..      ...     ...   ...    ...    ...       ...      ...       ...\n",
            "413       3    male   NaN      0      0    8.0500        S         0\n",
            "414       1  female  39.0      0      0  108.9000        C         1\n",
            "415       3    male  38.5      0      0    7.2500        S         0\n",
            "416       3    male   NaN      0      0    8.0500        S         0\n",
            "417       3    male   NaN      1      1   22.3583        C         0\n",
            "\n",
            "[418 rows x 8 columns]\n",
            "<class 'pandas.core.frame.DataFrame'>\n",
            "RangeIndex: 418 entries, 0 to 417\n",
            "Data columns (total 8 columns):\n",
            " #   Column    Non-Null Count  Dtype  \n",
            "---  ------    --------------  -----  \n",
            " 0   Pclass    418 non-null    int64  \n",
            " 1   Sex       418 non-null    object \n",
            " 2   Age       332 non-null    float64\n",
            " 3   SibSp     418 non-null    int64  \n",
            " 4   Parch     418 non-null    int64  \n",
            " 5   Fare      417 non-null    float64\n",
            " 6   Embarked  418 non-null    object \n",
            " 7   Survived  418 non-null    int64  \n",
            "dtypes: float64(2), int64(4), object(2)\n",
            "memory usage: 26.3+ KB\n",
            "None\n",
            "           Pclass         Age       SibSp       Parch        Fare    Survived\n",
            "count  418.000000  332.000000  418.000000  418.000000  417.000000  418.000000\n",
            "mean     2.265550   30.272590    0.447368    0.392344   35.627188    0.363636\n",
            "std      0.841838   14.181209    0.896760    0.981429   55.907576    0.481622\n",
            "min      1.000000    0.170000    0.000000    0.000000    0.000000    0.000000\n",
            "25%      1.000000   21.000000    0.000000    0.000000    7.895800    0.000000\n",
            "50%      3.000000   27.000000    0.000000    0.000000   14.454200    0.000000\n",
            "75%      3.000000   39.000000    1.000000    0.000000   31.500000    1.000000\n",
            "max      3.000000   76.000000    8.000000    9.000000  512.329200    1.000000\n"
          ]
        }
      ],
      "source": [
        "features = [\"Pclass\", \"Sex\", \"Age\", \"SibSp\", \"Parch\", \"Fare\", \"Embarked\"]\n",
        "target = \"Survived\"\n",
        "df = df[features + [target]]\n",
        "print(df)\n",
        "print(df.info())\n",
        "print(df.describe())"
      ]
    },
    {
      "cell_type": "code",
      "execution_count": null,
      "metadata": {
        "colab": {
          "base_uri": "https://localhost:8080/"
        },
        "id": "zp-ruI-4xLbT",
        "outputId": "de7b9652-da7e-4bc9-f194-bd9995a4c804"
      },
      "outputs": [
        {
          "name": "stdout",
          "output_type": "stream",
          "text": [
            "Pclass      0\n",
            "Sex         0\n",
            "Age         0\n",
            "SibSp       0\n",
            "Parch       0\n",
            "Fare        0\n",
            "Embarked    0\n",
            "Survived    0\n",
            "dtype: int64\n"
          ]
        }
      ],
      "source": [
        "df[\"Age\"] = df[\"Age\"].fillna(df[\"Age\"].median())\n",
        "df[\"Fare\"] = df[\"Fare\"].fillna(df[\"Fare\"].median())\n",
        "df[\"Embarked\"] = df[\"Embarked\"].fillna(df[\"Embarked\"].mode()[0])\n",
        "print(df.isnull().sum())"
      ]
    },
    {
      "cell_type": "code",
      "execution_count": null,
      "metadata": {
        "colab": {
          "base_uri": "https://localhost:8080/"
        },
        "id": "_HfgT423yjgv",
        "outputId": "9de71faa-9bcc-45f6-bdd8-234482982b34"
      },
      "outputs": [
        {
          "name": "stdout",
          "output_type": "stream",
          "text": [
            "   Pclass  Sex   Age  SibSp  Parch     Fare  Survived  Embarked_Q  Embarked_S\n",
            "0       3    1  34.5      0      0   7.8292         0        True       False\n",
            "1       3    0  47.0      1      0   7.0000         1       False        True\n",
            "2       2    1  62.0      0      0   9.6875         0        True       False\n",
            "3       3    1  27.0      0      0   8.6625         0       False        True\n",
            "4       3    0  22.0      1      1  12.2875         1       False        True\n"
          ]
        }
      ],
      "source": [
        "from sklearn.preprocessing import OneHotEncoder\n",
        "df[\"Sex\"] = df[\"Sex\"].map({\"male\": 1, \"female\": 0})\n",
        "df = pd.get_dummies(df, columns=[\"Embarked\"], drop_first=True)\n",
        "print(df.head())\n"
      ]
    },
    {
      "cell_type": "code",
      "execution_count": null,
      "metadata": {
        "colab": {
          "base_uri": "https://localhost:8080/"
        },
        "id": "rcLRCwlBy8ky",
        "outputId": "0b45bcd4-924a-4f7d-bbf4-612cc5565449"
      },
      "outputs": [
        {
          "name": "stdout",
          "output_type": "stream",
          "text": [
            "Training samples: 334, Testing samples: 84\n"
          ]
        }
      ],
      "source": [
        "from sklearn.model_selection import train_test_split\n",
        "X = df.drop(columns=[\"Survived\"])\n",
        "y = df[\"Survived\"]\n",
        "X_train, X_test, y_train, y_test = train_test_split(X, y, test_size=0.2, random_state=42, stratify=y)\n",
        "print(f\"Training samples: {X_train.shape[0]}, Testing samples: {X_test.shape[0]}\")"
      ]
    },
    {
      "cell_type": "code",
      "execution_count": null,
      "metadata": {
        "colab": {
          "base_uri": "https://localhost:8080/"
        },
        "id": "ee6Ptp9AzsEq",
        "outputId": "0802e710-7c5e-4e15-dd6a-68e471b7beeb"
      },
      "outputs": [
        {
          "name": "stdout",
          "output_type": "stream",
          "text": [
            "Pclass        0\n",
            "Sex           0\n",
            "Age           0\n",
            "SibSp         0\n",
            "Parch         0\n",
            "Fare          0\n",
            "Survived      0\n",
            "Embarked_Q    0\n",
            "Embarked_S    0\n",
            "dtype: int64\n"
          ]
        }
      ],
      "source": [
        "from sklearn.preprocessing import StandardScaler\n",
        "scaler = StandardScaler()\n",
        "X_train = scaler.fit_transform(X_train)\n",
        "X_test = scaler.transform(X_test)\n",
        "print(df.isnull().sum())"
      ]
    },
    {
      "cell_type": "code",
      "execution_count": null,
      "metadata": {
        "id": "JHQJj-050cZF"
      },
      "outputs": [],
      "source": [
        "from sklearn.neural_network import MLPClassifier\n",
        "model = MLPClassifier(hidden_layer_sizes=(16), activation='tanh', solver='lbfgs', max_iter=300, random_state=42)\n",
        "model.fit(X_train, y_train)\n",
        "y_pred = model.predict(X_test)\n",
        "\n",
        "\n"
      ]
    },
    {
      "cell_type": "code",
      "execution_count": null,
      "metadata": {
        "colab": {
          "base_uri": "https://localhost:8080/"
        },
        "id": "6iyXZLQ62Jep",
        "outputId": "d8d58f03-9198-4e44-ad1e-d2cd07e29dd5"
      },
      "outputs": [
        {
          "name": "stdout",
          "output_type": "stream",
          "text": [
            "              precision    recall  f1-score   support\n",
            "\n",
            "           0       1.00      1.00      1.00        53\n",
            "           1       1.00      1.00      1.00        31\n",
            "\n",
            "    accuracy                           1.00        84\n",
            "   macro avg       1.00      1.00      1.00        84\n",
            "weighted avg       1.00      1.00      1.00        84\n",
            "\n",
            "Confusion Matrix:\n",
            " [[53  0]\n",
            " [ 0 31]]\n"
          ]
        }
      ],
      "source": [
        "from sklearn.metrics import classification_report, confusion_matrix\n",
        "print(classification_report(y_test, y_pred))\n",
        "conf_matrix = confusion_matrix(y_test, y_pred)\n",
        "print(\"Confusion Matrix:\\n\", conf_matrix)"
      ]
    }
  ],
  "metadata": {
    "colab": {
      "provenance": []
    },
    "kernelspec": {
      "display_name": "Python 3",
      "name": "python3"
    },
    "language_info": {
      "name": "python"
    }
  },
  "nbformat": 4,
  "nbformat_minor": 0
}
